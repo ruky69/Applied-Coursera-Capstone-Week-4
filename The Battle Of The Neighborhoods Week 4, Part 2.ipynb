{
 "cells": [
  {
   "cell_type": "markdown",
   "metadata": {},
   "source": [
    "# Capstone Project - The Battle of the Neighborhoods (Week 4, Part 2)\n",
    "### Applied Data Science Capstone by IBM/Coursera"
   ]
  },
  {
   "cell_type": "markdown",
   "metadata": {},
   "source": [
    "## DATA DESCRIPTION"
   ]
  },
  {
   "cell_type": "markdown",
   "metadata": {},
   "source": [
    "To consider this problem, the list of data considered were:\n",
    "\n",
    "The Ontario dataset scrapped from Wikipedia on week 3 of this course, was used. The dataset consists of the Postal code, Borough, and Neighbourhood.\n",
    "\n",
    "Data Link: https://en.wikipedia.org/wiki/List_of_postal_codes_of_Canada:_M\n",
    "\n",
    "The data was then cleaned, in order to remove any unnecessary data that was found i.e. incomplete data for any borough or neighbourhood.\n",
    "\n",
    "Another dataset for latitude and longitude was gotten from the data link below:\n",
    "http://cocl.us/Geospatial_data\n",
    "\n",
    "The Foursquare API was used to gather data on venues, which include their names, location and many more features. \n",
    "\n",
    "Foursquare is a location data provider with varying information about venues and events within any area of interest geographically. As such, the platform would be used to get data on venues, through an API call.\n",
    "\n",
    "\n",
    "The data retrieved from the Foursquare API call includes:\n",
    "\n",
    "    a.\tThe Neighbourhoods\n",
    "\n",
    "    b.\tThe Neighbourhoods’ Latitude and Longitude\n",
    "\n",
    "    c.\tVenues\n",
    "\n",
    "    d.\tName of the various venues\n",
    "\n",
    "    e.\tLatitude and Longitude of each venue\n",
    "\n",
    "    f.\tVenue Category"
   ]
  },
  {
   "cell_type": "code",
   "execution_count": null,
   "metadata": {},
   "outputs": [],
   "source": []
  }
 ],
 "metadata": {
  "kernelspec": {
   "display_name": "Python 3",
   "language": "python",
   "name": "python3"
  },
  "language_info": {
   "codemirror_mode": {
    "name": "ipython",
    "version": 3
   },
   "file_extension": ".py",
   "mimetype": "text/x-python",
   "name": "python",
   "nbconvert_exporter": "python",
   "pygments_lexer": "ipython3",
   "version": "3.7.6"
  }
 },
 "nbformat": 4,
 "nbformat_minor": 4
}
