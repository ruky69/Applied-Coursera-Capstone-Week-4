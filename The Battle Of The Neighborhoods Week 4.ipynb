{
 "cells": [
  {
   "cell_type": "markdown",
   "metadata": {},
   "source": [
    "# Capstone Project - The Battle of the Neighborhoods (Week 4)\n",
    "### Applied Data Science Capstone by IBM/Coursera"
   ]
  },
  {
   "cell_type": "markdown",
   "metadata": {},
   "source": [
    "## Introduction: Business Problem "
   ]
  },
  {
   "cell_type": "markdown",
   "metadata": {},
   "source": [
    "**DESCRIPTION AND DISCUSSION OF THE BACKGROUND**\n",
    "\n",
    "**THE LOCATION**\n",
    "\n",
    "Ontario is a province located in east-central Canada, covering more than 1 million square kilometres, which borders USA and the Great Lakes. According to STATCAN[1], it had a population of 14.57 million people as of 2019. Canadas’ appeal as an immigration nation has been increasing over the past two decades, with Ontario being the most popular destination between July 1, 2017 and June 30, 2018, as well as also being the most popular destination for the year 2019 (Erin Duffin, 2019)[2]. \n",
    "Some important facts about Ontario include:\n",
    "-\tTheir temperatures varying from 30 degress celcius in summer to -40 degrees celcius in winter, \n",
    "-\tHousing one fifth of the worlds fresh water\n",
    "-\tTheir industries vary from crop cultivation, to mineral mining, to automobile manufacturing as well as technological development.\n",
    "-\tHas a range of cultures that are celebrated, with festivals like the Caribbean Carnival, Oktoberfest, Canadian Aboriginal and so on.\n",
    "\n",
    "**PURPOSE OF THE PROJECT**\n",
    "\n",
    "The aim of this project is to help immigrants in determining the neighbourhood that best suits them upon arrival to the province of Ontario, within Toronto city. \n",
    "Their decision on which neighbourhood to choose from, would be based on an analysis of venues in each neighbourhood."
   ]
  },
  {
   "cell_type": "markdown",
   "metadata": {},
   "source": [
    "# REFERENCES\n",
    "[1]. https://www12.statcan.gc.ca/census-recensement/2016/dp-pd/hlt-fst/pd-pl/Comprehensive.cfm\n",
    "\n",
    "[2]. https://www.statista.com/statistics/444906/number-of-immigrants-in-canada/#:~:text=Number%20of%20immigrants%20in%20Canada%2C%20by%20province%202019&text=Ontario%20was%20the%20province%20with,there%20in%20the%20same%20year."
   ]
  },
  {
   "cell_type": "code",
   "execution_count": null,
   "metadata": {},
   "outputs": [],
   "source": []
  }
 ],
 "metadata": {
  "kernelspec": {
   "display_name": "Python 3",
   "language": "python",
   "name": "python3"
  },
  "language_info": {
   "codemirror_mode": {
    "name": "ipython",
    "version": 3
   },
   "file_extension": ".py",
   "mimetype": "text/x-python",
   "name": "python",
   "nbconvert_exporter": "python",
   "pygments_lexer": "ipython3",
   "version": "3.7.6"
  }
 },
 "nbformat": 4,
 "nbformat_minor": 4
}
